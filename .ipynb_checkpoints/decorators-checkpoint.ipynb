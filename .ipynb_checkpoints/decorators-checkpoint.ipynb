{
 "cells": [
  {
   "cell_type": "code",
   "execution_count": 1,
   "id": "00a2701c-7a05-4b7e-9f84-9376e9c656ee",
   "metadata": {},
   "outputs": [],
   "source": [
    "def start_end_decorator(func):\n",
    "\n",
    "    def wrapper():\n",
    "        print('Start')\n",
    "        func()\n",
    "        print('End')\n",
    "    return wrapper"
   ]
  },
  {
   "cell_type": "code",
   "execution_count": 2,
   "id": "d665250a-1a1b-4424-b802-4cd362b4f704",
   "metadata": {},
   "outputs": [],
   "source": [
    "def print_name():\n",
    "    print('Alex')"
   ]
  },
  {
   "cell_type": "code",
   "execution_count": 8,
   "id": "229671fc-588b-478f-a9a0-78223554a550",
   "metadata": {},
   "outputs": [
    {
     "name": "stdout",
     "output_type": "stream",
     "text": [
      "Start\n",
      "Start\n",
      "Start\n",
      "Start\n",
      "Start\n",
      "Start\n",
      "Alex\n",
      "End\n",
      "End\n",
      "End\n",
      "End\n",
      "End\n",
      "End\n"
     ]
    }
   ],
   "source": [
    "print_name = start_end_decorator(print_name)\n",
    "print_name()"
   ]
  },
  {
   "cell_type": "code",
   "execution_count": 9,
   "id": "48bcd0b3-5fdd-4c0f-9ef2-7cb7ab430614",
   "metadata": {},
   "outputs": [],
   "source": [
    "@start_end_decorator\n",
    "def print_name2():\n",
    "    print('Alex')"
   ]
  },
  {
   "cell_type": "code",
   "execution_count": 11,
   "id": "9160dca2-dc59-449f-800d-ceb4f9ae8510",
   "metadata": {},
   "outputs": [
    {
     "name": "stdout",
     "output_type": "stream",
     "text": [
      "Start\n",
      "Alex\n",
      "End\n"
     ]
    }
   ],
   "source": [
    "print_name2()"
   ]
  },
  {
   "cell_type": "code",
   "execution_count": 32,
   "id": "e7cd7ab1-44b7-4e06-bf15-63ba6ffed031",
   "metadata": {},
   "outputs": [],
   "source": [
    "import functools"
   ]
  },
  {
   "cell_type": "code",
   "execution_count": 38,
   "id": "0a7c08d4-f548-4520-800b-2e5d3401d068",
   "metadata": {},
   "outputs": [],
   "source": [
    "def start_end_decorator2(func):\n",
    "\n",
    "    @functools.wraps(func)\n",
    "    def wrapper(*args, **kwargs):\n",
    "        print('Start')\n",
    "        result = func(*args, **kwargs)\n",
    "        print('End')\n",
    "        return result\n",
    "    return wrapper"
   ]
  },
  {
   "cell_type": "code",
   "execution_count": 39,
   "id": "fb668cc2-55d7-48bd-b9b3-5e02d7f1253a",
   "metadata": {},
   "outputs": [],
   "source": [
    "@start_end_decorator2\n",
    "def add5(x):\n",
    "    return x + 5"
   ]
  },
  {
   "cell_type": "code",
   "execution_count": 40,
   "id": "2d1ef374-fd9b-4f6e-9aa9-153377982596",
   "metadata": {},
   "outputs": [
    {
     "name": "stdout",
     "output_type": "stream",
     "text": [
      "Start\n",
      "End\n"
     ]
    },
    {
     "data": {
      "text/plain": [
       "15"
      ]
     },
     "execution_count": 40,
     "metadata": {},
     "output_type": "execute_result"
    }
   ],
   "source": [
    "add5(10)"
   ]
  },
  {
   "cell_type": "code",
   "execution_count": 41,
   "id": "57337aee-b0d3-4169-9d6c-e5c02a4b7285",
   "metadata": {},
   "outputs": [
    {
     "name": "stdout",
     "output_type": "stream",
     "text": [
      "Help on function add5 in module __main__:\n",
      "\n",
      "add5(x)\n",
      "\n"
     ]
    }
   ],
   "source": [
    "help(add5) # without functools 'wrapper(*args, **kwargs)'"
   ]
  },
  {
   "cell_type": "code",
   "execution_count": 42,
   "id": "8d5b3f2b-4a72-466a-8c15-71ed0c87e060",
   "metadata": {},
   "outputs": [
    {
     "data": {
      "text/plain": [
       "'add5'"
      ]
     },
     "execution_count": 42,
     "metadata": {},
     "output_type": "execute_result"
    }
   ],
   "source": [
    "add5.__name__ # without functools ''wrapper''"
   ]
  },
  {
   "cell_type": "code",
   "execution_count": 43,
   "id": "2243ea53-786d-4b2d-bc0c-6fa23fd44782",
   "metadata": {},
   "outputs": [],
   "source": [
    "import functools"
   ]
  },
  {
   "cell_type": "code",
   "execution_count": 44,
   "id": "5c27e0ef-8f77-4120-8e78-743b14cc6bfe",
   "metadata": {},
   "outputs": [],
   "source": [
    "def repeat(num_times):\n",
    "    def decorator_repeat(func):\n",
    "        @functools.wrap(fun)\n",
    "        def wrapper(*args, **kwargs):\n",
    "            for _ in range(num_times):\n",
    "                result = func(*args, *kwargs)\n",
    "            return result\n",
    "        return wrapper\n",
    "    return decorator_repeat"
   ]
  },
  {
   "cell_type": "code",
   "execution_count": null,
   "id": "e8fb4520-0894-47d2-9269-63e3f2824483",
   "metadata": {},
   "outputs": [],
   "source": [
    "@repeat(num_times=4)\n",
    "def greet(name):\n",
    "    print(f'Hello {name}')"
   ]
  }
 ],
 "metadata": {
  "kernelspec": {
   "display_name": "env11",
   "language": "python",
   "name": "env11"
  },
  "language_info": {
   "codemirror_mode": {
    "name": "ipython",
    "version": 3
   },
   "file_extension": ".py",
   "mimetype": "text/x-python",
   "name": "python",
   "nbconvert_exporter": "python",
   "pygments_lexer": "ipython3",
   "version": "3.11.2"
  }
 },
 "nbformat": 4,
 "nbformat_minor": 5
}
