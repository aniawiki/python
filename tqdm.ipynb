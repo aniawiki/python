{
 "cells": [
  {
   "cell_type": "code",
   "execution_count": null,
   "id": "4f3a125b-d148-4ec5-ba34-7db209b544c3",
   "metadata": {},
   "outputs": [],
   "source": [
    "https://www.youtube.com/watch?v=n4E7of9BINo"
   ]
  },
  {
   "cell_type": "code",
   "execution_count": 51,
   "id": "b1c2c7e8-41fc-499a-8c9b-ba092f724822",
   "metadata": {},
   "outputs": [],
   "source": [
    "from tqdm import tqdm, trange\n",
    "from joblib import Parallel, delayed\n",
    "from time import sleep\n",
    "import math\n",
    "import time"
   ]
  },
  {
   "cell_type": "code",
   "execution_count": 52,
   "id": "d7b10d24-a514-44f4-b6e7-377951605867",
   "metadata": {},
   "outputs": [
    {
     "name": "stderr",
     "output_type": "stream",
     "text": [
      "\n",
      "\n",
      "\n",
      "\n",
      "\n",
      "\n",
      "\n",
      "  0%|                                                  | 0/5000 [00:00<?, ?it/s]\u001b[A\u001b[A\u001b[A\u001b[A\u001b[A\u001b[A\u001b[A\n",
      "\n",
      "\n",
      "\n",
      "\n",
      "\n",
      "\n",
      " 39%|█████████████▊                      | 1926/5000 [00:00<00:00, 19243.04it/s]\u001b[A\u001b[A\u001b[A\u001b[A\u001b[A\u001b[A\u001b[A\n",
      "\n",
      "\n",
      "\n",
      "\n",
      "\n",
      "\n",
      " 77%|████████████████████████████▍        | 3851/5000 [00:00<00:00, 6635.94it/s]\u001b[A\u001b[A\u001b[A\u001b[A\u001b[A\u001b[A\u001b[A\n",
      "\n",
      "\n",
      "\n",
      "\n",
      "\n",
      "\n",
      "100%|█████████████████████████████████████| 5000/5000 [00:01<00:00, 4839.60it/s]\u001b[A\u001b[A\u001b[A\u001b[A\u001b[A\u001b[A\u001b[A\n"
     ]
    }
   ],
   "source": [
    "results = []\n",
    "\n",
    "for i in tqdm(range(5000)):\n",
    "    results.append(math.factorial(i))"
   ]
  },
  {
   "cell_type": "code",
   "execution_count": 53,
   "id": "e7871640-00a3-447a-abb9-9aa2cb3883d0",
   "metadata": {},
   "outputs": [
    {
     "name": "stderr",
     "output_type": "stream",
     "text": [
      "\n",
      "\n",
      "\n",
      "\n",
      "\n",
      "\n",
      "\n",
      "  0%|                                                  | 0/5000 [00:00<?, ?it/s]\u001b[A\u001b[A\u001b[A\u001b[A\u001b[A\u001b[A\u001b[A\n",
      "\n",
      "\n",
      "\n",
      "\n",
      "\n",
      "\n",
      " 35%|████████████▌                       | 1751/5000 [00:00<00:00, 17504.97it/s]\u001b[A\u001b[A\u001b[A\u001b[A\u001b[A\u001b[A\u001b[A\n",
      "\n",
      "\n",
      "\n",
      "\n",
      "\n",
      "\n",
      " 70%|█████████████████████████▉           | 3502/5000 [00:00<00:00, 7864.54it/s]\u001b[A\u001b[A\u001b[A\u001b[A\u001b[A\u001b[A\u001b[A\n",
      "\n",
      "\n",
      "\n",
      "\n",
      "\n",
      "\n",
      "100%|█████████████████████████████████████| 5000/5000 [00:01<00:00, 4838.38it/s]\u001b[A\u001b[A\u001b[A\u001b[A\u001b[A\u001b[A\u001b[A\n"
     ]
    }
   ],
   "source": [
    "results = [math.factorial(i) for i in tqdm(range(5000))]"
   ]
  },
  {
   "cell_type": "code",
   "execution_count": 54,
   "id": "5e8bc44c-5b5e-417f-8bf4-7e86cee82f99",
   "metadata": {},
   "outputs": [
    {
     "name": "stderr",
     "output_type": "stream",
     "text": [
      "\n",
      "\n",
      "\n",
      "\n",
      "\n",
      "\n",
      "\n",
      "  0%|                                                  | 0/5000 [00:00<?, ?it/s]\u001b[A\u001b[A\u001b[A\u001b[A\u001b[A\u001b[A\u001b[A\n",
      "\n",
      "\n",
      "\n",
      "\n",
      "\n",
      "\n",
      "  0%|                                          | 4/5000 [00:00<02:27, 33.88it/s]\u001b[A\u001b[A\u001b[A\u001b[A\u001b[A\u001b[A\u001b[A\n",
      "\n",
      "\n",
      "\n",
      "\n",
      "\n",
      "\n",
      "100%|████████████████████████████████████| 5000/5000 [00:00<00:00, 17762.33it/s]\u001b[A\u001b[A\u001b[A\u001b[A\u001b[A\u001b[A\u001b[A\n"
     ]
    }
   ],
   "source": [
    "results = Parallel(n_jobs=2)(delayed(math.factorial)(i) for i in tqdm(range(5000)))"
   ]
  },
  {
   "cell_type": "code",
   "execution_count": 55,
   "id": "a8933722-38b0-47cb-a6c0-7037e8ed5b47",
   "metadata": {},
   "outputs": [
    {
     "name": "stderr",
     "output_type": "stream",
     "text": [
      "\n",
      "\n",
      "\n",
      "\n",
      "\n",
      "\n",
      "\n",
      "  0%|                                                    | 0/10 [00:00<?, ?it/s]\u001b[A\u001b[A\u001b[A\u001b[A\u001b[A\u001b[A\u001b[A\n",
      "\n",
      "\n",
      "\n",
      "\n",
      "\n",
      "\n",
      "Iteration number 1:   0%|                                | 0/10 [00:00<?, ?it/s]\u001b[A\u001b[A\u001b[A\u001b[A\u001b[A\u001b[A\u001b[A\n",
      "\n",
      "\n",
      "\n",
      "\n",
      "\n",
      "\n",
      "Iteration number 1:   0%|                  | 0/10 [00:00<?, ?it/s, something=40]\u001b[A\u001b[A\u001b[A\u001b[A\u001b[A\u001b[A\u001b[A\n",
      "\n",
      "\n",
      "\n",
      "\n",
      "\n",
      "\n",
      "\n",
      "  0%|                                                    | 0/10 [00:00<?, ?it/s]\u001b[A\u001b[A\u001b[A\u001b[A\u001b[A\u001b[A\u001b[A\u001b[A\n",
      "\n",
      "\n",
      "\n",
      "\n",
      "\n",
      "\n",
      "\n",
      " 10%|████▍                                       | 1/10 [00:00<00:04,  2.00it/s]\u001b[A\u001b[A\u001b[A\u001b[A\u001b[A\u001b[A\u001b[A\u001b[A\n",
      "\n",
      "\n",
      "\n",
      "\n",
      "\n",
      "\n",
      "\n",
      " 20%|████████▊                                   | 2/10 [00:01<00:04,  1.99it/s]\u001b[A\u001b[A\u001b[A\u001b[A\u001b[A\u001b[A\u001b[A\u001b[A\n",
      "\n",
      "\n",
      "\n",
      "\n",
      "\n",
      "\n",
      "\n",
      " 30%|█████████████▏                              | 3/10 [00:01<00:03,  1.99it/s]\u001b[A\u001b[A\u001b[A\u001b[A\u001b[A\u001b[A\u001b[A\u001b[A\n",
      "\n",
      "\n",
      "\n",
      "\n",
      "\n",
      "\n",
      "\n",
      " 40%|█████████████████▌                          | 4/10 [00:02<00:03,  1.99it/s]\u001b[A\u001b[A\u001b[A\u001b[A\u001b[A\u001b[A\u001b[A\u001b[A\n",
      "\n",
      "\n",
      "\n",
      "\n",
      "\n",
      "\n",
      "\n",
      " 50%|██████████████████████                      | 5/10 [00:02<00:02,  1.99it/s]\u001b[A\u001b[A\u001b[A\u001b[A\u001b[A\u001b[A\u001b[A\u001b[A\n",
      "\n",
      "\n",
      "\n",
      "\n",
      "\n",
      "\n",
      "\n",
      " 60%|██████████████████████████▍                 | 6/10 [00:03<00:02,  1.99it/s]\u001b[A\u001b[A\u001b[A\u001b[A\u001b[A\u001b[A\u001b[A\u001b[A\n",
      "\n",
      "\n",
      "\n",
      "\n",
      "\n",
      "\n",
      "\n",
      " 70%|██████████████████████████████▊             | 7/10 [00:03<00:01,  1.99it/s]\u001b[A\u001b[A\u001b[A\u001b[A\u001b[A\u001b[A\u001b[A\u001b[A\n",
      "\n",
      "\n",
      "\n",
      "\n",
      "\n",
      "\n",
      "\n",
      " 80%|███████████████████████████████████▏        | 8/10 [00:04<00:01,  1.99it/s]\u001b[A\u001b[A\u001b[A\u001b[A\u001b[A\u001b[A\u001b[A\u001b[A\n",
      "\n",
      "\n",
      "\n",
      "\n",
      "\n",
      "\n",
      "\n",
      " 90%|███████████████████████████████████████▌    | 9/10 [00:04<00:00,  1.99it/s]\u001b[A\u001b[A\u001b[A\u001b[A\u001b[A\u001b[A\u001b[A\u001b[A\n",
      "\n",
      "\n",
      "\n",
      "\n",
      "\n",
      "\n",
      "\n",
      "100%|███████████████████████████████████████████| 10/10 [00:05<00:00,  1.99it/s]\u001b[A\u001b[A\u001b[A\u001b[A\u001b[A\u001b[A\u001b[A\u001b[A\n",
      "\n",
      "\n",
      "\n",
      "\n",
      "\n",
      "\n",
      "\n",
      "Iteration number 1:  10%|█         | 1/10 [00:05<00:45,  5.04s/it, something=40]\u001b[A\u001b[A\u001b[A\u001b[A\u001b[A\u001b[A\u001b[A\n",
      "\n",
      "\n",
      "\n",
      "\n",
      "\n",
      "\n",
      "Iteration number 2:  10%|█         | 1/10 [00:05<00:45,  5.04s/it, something=40]\u001b[A\u001b[A\u001b[A\u001b[A\u001b[A\u001b[A\u001b[A\n",
      "\n",
      "\n",
      "\n",
      "\n",
      "\n",
      "\n",
      "Iteration number 2:  10%|█         | 1/10 [00:05<00:45,  5.04s/it, something=35]\u001b[A\u001b[A\u001b[A\u001b[A\u001b[A\u001b[A\u001b[A\n",
      "\n",
      "\n",
      "\n",
      "\n",
      "\n",
      "\n",
      "Iteration number 3:  10%|█         | 1/10 [00:05<00:45,  5.04s/it, something=35]\u001b[A\u001b[A\u001b[A\u001b[A\u001b[A\u001b[A\u001b[A\n",
      "\n",
      "\n",
      "\n",
      "\n",
      "\n",
      "\n",
      "Iteration number 3:  10%|█         | 1/10 [00:05<00:45,  5.04s/it, something=11]\u001b[A\u001b[A\u001b[A\u001b[A\u001b[A\u001b[A\u001b[A\n",
      "\n",
      "\n",
      "\n",
      "\n",
      "\n",
      "\n",
      "Iteration number 4:  10%|█         | 1/10 [00:05<00:45,  5.04s/it, something=11]\u001b[A\u001b[A\u001b[A\u001b[A\u001b[A\u001b[A\u001b[A\n",
      "\n",
      "\n",
      "\n",
      "\n",
      "\n",
      "\n",
      "Iteration number 4:  10%|█         | 1/10 [00:05<00:45,  5.04s/it, something=24]\u001b[A\u001b[A\u001b[A\u001b[A\u001b[A\u001b[A\u001b[A\n",
      "\n",
      "\n",
      "\n",
      "\n",
      "\n",
      "\n",
      "Iteration number 5:  10%|█         | 1/10 [00:05<00:45,  5.04s/it, something=24]\u001b[A\u001b[A\u001b[A\u001b[A\u001b[A\u001b[A\u001b[A\n",
      "\n",
      "\n",
      "\n",
      "\n",
      "\n",
      "\n",
      "Iteration number 5:  10%|█         | 1/10 [00:05<00:45,  5.04s/it, something=14]\u001b[A\u001b[A\u001b[A\u001b[A\u001b[A\u001b[A\u001b[A\n",
      "\n",
      "\n",
      "\n",
      "\n",
      "\n",
      "\n",
      "Iteration number 6:  10%|█         | 1/10 [00:05<00:45,  5.04s/it, something=14]\u001b[A\u001b[A\u001b[A\u001b[A\u001b[A\u001b[A\u001b[A\n",
      "\n",
      "\n",
      "\n",
      "\n",
      "\n",
      "\n",
      "Iteration number 6:  10%|█         | 1/10 [00:05<00:45,  5.04s/it, something=42]\u001b[A\u001b[A\u001b[A\u001b[A\u001b[A\u001b[A\u001b[A\n",
      "\n",
      "\n",
      "\n",
      "\n",
      "\n",
      "\n",
      "Iteration number 7:  10%|█         | 1/10 [00:05<00:45,  5.04s/it, something=42]\u001b[A\u001b[A\u001b[A\u001b[A\u001b[A\u001b[A\u001b[A\n",
      "\n",
      "\n",
      "\n",
      "\n",
      "\n",
      "\n",
      "Iteration number 7:  10%|█         | 1/10 [00:05<00:45,  5.04s/it, something=32]\u001b[A\u001b[A\u001b[A\u001b[A\u001b[A\u001b[A\u001b[A\n",
      "\n",
      "\n",
      "\n",
      "\n",
      "\n",
      "\n",
      "Iteration number 8:  10%|█         | 1/10 [00:05<00:45,  5.04s/it, something=32]\u001b[A\u001b[A\u001b[A\u001b[A\u001b[A\u001b[A\u001b[A\n",
      "\n",
      "\n",
      "\n",
      "\n",
      "\n",
      "\n",
      "Iteration number 8:  10%|█         | 1/10 [00:05<00:45,  5.04s/it, something=92]\u001b[A\u001b[A\u001b[A\u001b[A\u001b[A\u001b[A\u001b[A\n",
      "\n",
      "\n",
      "\n",
      "\n",
      "\n",
      "\n",
      "Iteration number 9:  10%|█         | 1/10 [00:05<00:45,  5.04s/it, something=92]\u001b[A\u001b[A\u001b[A\u001b[A\u001b[A\u001b[A\u001b[A\n",
      "\n",
      "\n",
      "\n",
      "\n",
      "\n",
      "\n",
      "Iteration number 9:  10%|█         | 1/10 [00:05<00:45,  5.04s/it, something=43]\u001b[A\u001b[A\u001b[A\u001b[A\u001b[A\u001b[A\u001b[A\n",
      "\n",
      "\n",
      "\n",
      "\n",
      "\n",
      "\n",
      "Iteration number 10:  10%|▉        | 1/10 [00:05<00:45,  5.04s/it, something=43]\u001b[A\u001b[A\u001b[A\u001b[A\u001b[A\u001b[A\u001b[A\n",
      "\n",
      "\n",
      "\n",
      "\n",
      "\n",
      "\n",
      "Iteration number 10: 100%|████████| 10/10 [00:05<00:00,  1.96it/s, something=97]\u001b[A\u001b[A\u001b[A\u001b[A\u001b[A\u001b[A\u001b[A\n"
     ]
    }
   ],
   "source": [
    "import random\n",
    "\n",
    "with trange(10) as t:\n",
    "    for i in t:\n",
    "        t.set_description(f\"Iteration number {i+1}\")\n",
    "        t.set_postfix(something=random.randint(0, 100))\n",
    "        if i % 100 == 0:\n",
    "            for _ in trange(10):\n",
    "                time.sleep(0.5)"
   ]
  },
  {
   "cell_type": "code",
   "execution_count": 24,
   "id": "516de6a4-2652-4b43-9f8e-deaf7878b1cf",
   "metadata": {},
   "outputs": [
    {
     "name": "stderr",
     "output_type": "stream",
     "text": [
      "\n",
      "70345it [00:07, 8979.05it/s]                          | 0/50000 [00:00<?, ?it/s]\u001b[A\n",
      "\n",
      "  3%|█▏                                 | 1612/50000 [00:00<00:03, 16112.64it/s]\u001b[A\n",
      "  7%|██▎                                | 3333/50000 [00:00<00:02, 16754.63it/s]\u001b[A\n",
      " 10%|███▌                               | 5009/50000 [00:00<00:02, 16472.05it/s]\u001b[A\n",
      " 13%|████▋                              | 6657/50000 [00:00<00:02, 16414.73it/s]\u001b[A\n",
      " 17%|█████▊                             | 8334/50000 [00:00<00:02, 16538.94it/s]\u001b[A\n",
      " 20%|██████▊                           | 10009/50000 [00:00<00:02, 16609.90it/s]\u001b[A\n",
      " 23%|███████▉                          | 11671/50000 [00:00<00:02, 16499.21it/s]\u001b[A\n",
      " 27%|█████████                         | 13384/50000 [00:00<00:02, 16696.91it/s]\u001b[A\n",
      " 30%|██████████▏                       | 15069/50000 [00:00<00:02, 16743.52it/s]\u001b[A\n",
      " 33%|███████████▍                      | 16744/50000 [00:01<00:01, 16736.98it/s]\u001b[A\n",
      " 37%|████████████▌                     | 18420/50000 [00:01<00:01, 16743.35it/s]\u001b[A\n",
      " 40%|█████████████▋                    | 20096/50000 [00:01<00:01, 16747.34it/s]\u001b[A\n",
      " 44%|██████████████▊                   | 21771/50000 [00:01<00:01, 16682.28it/s]\u001b[A\n",
      " 47%|███████████████▉                  | 23449/50000 [00:01<00:01, 16710.65it/s]\u001b[A\n",
      " 50%|█████████████████                 | 25140/50000 [00:01<00:01, 16768.67it/s]\u001b[A\n",
      " 54%|██████████████████▏               | 26836/50000 [00:01<00:01, 16822.65it/s]\u001b[A\n",
      " 57%|███████████████████▍              | 28538/50000 [00:01<00:01, 16881.85it/s]\u001b[A\n",
      " 60%|████████████████████▌             | 30227/50000 [00:01<00:01, 16810.33it/s]\u001b[A\n",
      " 64%|█████████████████████▋            | 31938/50000 [00:01<00:01, 16898.06it/s]\u001b[A\n",
      " 67%|██████████████████████▊           | 33628/50000 [00:02<00:00, 16652.25it/s]\u001b[A\n",
      " 71%|████████████████████████          | 35295/50000 [00:02<00:00, 16432.10it/s]\u001b[A\n",
      " 74%|█████████████████████████         | 36940/50000 [00:02<00:00, 16405.93it/s]\u001b[A\n",
      " 77%|██████████████████████████▏       | 38582/50000 [00:02<00:00, 16388.48it/s]\u001b[A\n",
      " 80%|███████████████████████████▎      | 40234/50000 [00:02<00:00, 16426.16it/s]\u001b[A\n",
      " 84%|████████████████████████████▍     | 41877/50000 [00:02<00:00, 16384.39it/s]\u001b[A\n",
      " 87%|█████████████████████████████▌    | 43544/50000 [00:02<00:00, 16467.30it/s]\u001b[A\n",
      " 90%|██████████████████████████████▊   | 45231/50000 [00:02<00:00, 16585.00it/s]\u001b[A\n",
      " 94%|███████████████████████████████▉  | 46947/50000 [00:02<00:00, 16756.51it/s]\u001b[A\n",
      "100%|██████████████████████████████████| 50000/50000 [00:03<00:00, 16621.03it/s]\u001b[A\n"
     ]
    }
   ],
   "source": [
    "pbar = tqdm(total=50_000)\n",
    "for s in range(50000):\n",
    "    pbar.update(1)\n",
    "    sleep(0.000001)\n",
    "pbar.close()"
   ]
  },
  {
   "cell_type": "code",
   "execution_count": 29,
   "id": "8032b446-7599-470b-b5ba-de6f4489515f",
   "metadata": {},
   "outputs": [
    {
     "name": "stderr",
     "output_type": "stream",
     "text": [
      "my counter: 100%|██████████████████████████████| 6/6 [00:06<00:00,  1.00s/hello]\n"
     ]
    }
   ],
   "source": [
    "for i in tqdm([1, 2, 3, 4, 5, 6], desc='my counter', unit='hello'):\n",
    "    sleep(1)"
   ]
  },
  {
   "cell_type": "code",
   "execution_count": 33,
   "id": "6f50d330-a3c2-4386-b144-29c4738cba53",
   "metadata": {},
   "outputs": [
    {
     "name": "stderr",
     "output_type": "stream",
     "text": [
      "processing: e: 100%|██████████████████████████████| 5/5 [00:02<00:00,  1.99it/s]\n"
     ]
    }
   ],
   "source": [
    "list = [\"a\", \"b\", \"c\", \"d\", \"e\"]\n",
    "pbar = tqdm(list)\n",
    "\n",
    "for l in pbar:\n",
    "    sleep(0.5)\n",
    "    pbar.set_description(f\"processing: {l}\")"
   ]
  },
  {
   "cell_type": "code",
   "execution_count": 37,
   "id": "d46d53ca-72bf-4fe8-8059-1aaea0bdd654",
   "metadata": {},
   "outputs": [
    {
     "name": "stderr",
     "output_type": "stream",
     "text": [
      "100%|████████████████████| 100000/100000 [00:00<00:00, 1947252.50it/s]\n"
     ]
    }
   ],
   "source": [
    "for i in tqdm(range(100000), ncols=70):\n",
    "    pass"
   ]
  },
  {
   "cell_type": "code",
   "execution_count": 38,
   "id": "5e52cfa0-bd04-47d8-a57f-cb0974c21482",
   "metadata": {},
   "outputs": [
    {
     "name": "stderr",
     "output_type": "stream",
     "text": [
      "100%|███████████████████████████████████████████| 10/10 [00:05<00:00,  2.00it/s]\n"
     ]
    }
   ],
   "source": [
    "for i in tqdm(range(10), mininterval=1):\n",
    "    sleep(0.5)"
   ]
  },
  {
   "cell_type": "code",
   "execution_count": 39,
   "id": "65793237-9e48-4319-88c3-0cadf20a8815",
   "metadata": {},
   "outputs": [],
   "source": [
    "for i in tqdm(range(10), disable=True):\n",
    "    sleep(0.5)"
   ]
  },
  {
   "cell_type": "code",
   "execution_count": null,
   "id": "42b590d0-797c-42ac-99e8-c5200d00bf1d",
   "metadata": {},
   "outputs": [],
   "source": [
    "tqdm.pandas(desc='dog bar')\n",
    "out = desc.progress_apply(lambda row: row['smell']**2, axis=1]"
   ]
  },
  {
   "cell_type": "code",
   "execution_count": null,
   "id": "b49fbfb1-0154-43ec-a8fa-29dfefe32d9e",
   "metadata": {},
   "outputs": [],
   "source": [
    "out = df.groupby('dog').progress_apply(lambda row: row['smell']**2)"
   ]
  },
  {
   "cell_type": "code",
   "execution_count": 56,
   "id": "9859412a-f8c1-4b62-90a7-b48c0a165088",
   "metadata": {},
   "outputs": [
    {
     "ename": "ImportError",
     "evalue": "IProgress not found. Please update jupyter and ipywidgets. See https://ipywidgets.readthedocs.io/en/stable/user_install.html",
     "output_type": "error",
     "traceback": [
      "\u001b[0;31m---------------------------------------------------------------------------\u001b[0m",
      "\u001b[0;31mImportError\u001b[0m                               Traceback (most recent call last)",
      "Cell \u001b[0;32mIn[56], line 3\u001b[0m\n\u001b[1;32m      1\u001b[0m \u001b[38;5;28;01mfrom\u001b[39;00m \u001b[38;5;21;01mtqdm\u001b[39;00m\u001b[38;5;21;01m.\u001b[39;00m\u001b[38;5;21;01mnotebook\u001b[39;00m \u001b[38;5;28;01mimport\u001b[39;00m tqdm\n\u001b[0;32m----> 3\u001b[0m \u001b[38;5;28;01mfor\u001b[39;00m i \u001b[38;5;129;01min\u001b[39;00m \u001b[43mtqdm\u001b[49m\u001b[43m(\u001b[49m\u001b[38;5;28;43mrange\u001b[39;49m\u001b[43m(\u001b[49m\u001b[38;5;241;43m10\u001b[39;49m\u001b[43m)\u001b[49m\u001b[43m)\u001b[49m:\n\u001b[1;32m      4\u001b[0m     sleep(\u001b[38;5;241m0.2\u001b[39m)\n",
      "File \u001b[0;32m~/env11/lib/python3.11/site-packages/tqdm/notebook.py:238\u001b[0m, in \u001b[0;36mtqdm_notebook.__init__\u001b[0;34m(self, *args, **kwargs)\u001b[0m\n\u001b[1;32m    236\u001b[0m unit_scale \u001b[38;5;241m=\u001b[39m \u001b[38;5;241m1\u001b[39m \u001b[38;5;28;01mif\u001b[39;00m \u001b[38;5;28mself\u001b[39m\u001b[38;5;241m.\u001b[39munit_scale \u001b[38;5;129;01mis\u001b[39;00m \u001b[38;5;28;01mTrue\u001b[39;00m \u001b[38;5;28;01melse\u001b[39;00m \u001b[38;5;28mself\u001b[39m\u001b[38;5;241m.\u001b[39munit_scale \u001b[38;5;129;01mor\u001b[39;00m \u001b[38;5;241m1\u001b[39m\n\u001b[1;32m    237\u001b[0m total \u001b[38;5;241m=\u001b[39m \u001b[38;5;28mself\u001b[39m\u001b[38;5;241m.\u001b[39mtotal \u001b[38;5;241m*\u001b[39m unit_scale \u001b[38;5;28;01mif\u001b[39;00m \u001b[38;5;28mself\u001b[39m\u001b[38;5;241m.\u001b[39mtotal \u001b[38;5;28;01melse\u001b[39;00m \u001b[38;5;28mself\u001b[39m\u001b[38;5;241m.\u001b[39mtotal\n\u001b[0;32m--> 238\u001b[0m \u001b[38;5;28mself\u001b[39m\u001b[38;5;241m.\u001b[39mcontainer \u001b[38;5;241m=\u001b[39m \u001b[38;5;28;43mself\u001b[39;49m\u001b[38;5;241;43m.\u001b[39;49m\u001b[43mstatus_printer\u001b[49m\u001b[43m(\u001b[49m\u001b[38;5;28;43mself\u001b[39;49m\u001b[38;5;241;43m.\u001b[39;49m\u001b[43mfp\u001b[49m\u001b[43m,\u001b[49m\u001b[43m \u001b[49m\u001b[43mtotal\u001b[49m\u001b[43m,\u001b[49m\u001b[43m \u001b[49m\u001b[38;5;28;43mself\u001b[39;49m\u001b[38;5;241;43m.\u001b[39;49m\u001b[43mdesc\u001b[49m\u001b[43m,\u001b[49m\u001b[43m \u001b[49m\u001b[38;5;28;43mself\u001b[39;49m\u001b[38;5;241;43m.\u001b[39;49m\u001b[43mncols\u001b[49m\u001b[43m)\u001b[49m\n\u001b[1;32m    239\u001b[0m \u001b[38;5;28mself\u001b[39m\u001b[38;5;241m.\u001b[39mcontainer\u001b[38;5;241m.\u001b[39mpbar \u001b[38;5;241m=\u001b[39m proxy(\u001b[38;5;28mself\u001b[39m)\n\u001b[1;32m    240\u001b[0m \u001b[38;5;28mself\u001b[39m\u001b[38;5;241m.\u001b[39mdisplayed \u001b[38;5;241m=\u001b[39m \u001b[38;5;28;01mFalse\u001b[39;00m\n",
      "File \u001b[0;32m~/env11/lib/python3.11/site-packages/tqdm/notebook.py:113\u001b[0m, in \u001b[0;36mtqdm_notebook.status_printer\u001b[0;34m(_, total, desc, ncols)\u001b[0m\n\u001b[1;32m    104\u001b[0m \u001b[38;5;66;03m# Fallback to text bar if there's no total\u001b[39;00m\n\u001b[1;32m    105\u001b[0m \u001b[38;5;66;03m# DEPRECATED: replaced with an 'info' style bar\u001b[39;00m\n\u001b[1;32m    106\u001b[0m \u001b[38;5;66;03m# if not total:\u001b[39;00m\n\u001b[0;32m   (...)\u001b[0m\n\u001b[1;32m    110\u001b[0m \n\u001b[1;32m    111\u001b[0m \u001b[38;5;66;03m# Prepare IPython progress bar\u001b[39;00m\n\u001b[1;32m    112\u001b[0m \u001b[38;5;28;01mif\u001b[39;00m IProgress \u001b[38;5;129;01mis\u001b[39;00m \u001b[38;5;28;01mNone\u001b[39;00m:  \u001b[38;5;66;03m# #187 #451 #558 #872\u001b[39;00m\n\u001b[0;32m--> 113\u001b[0m     \u001b[38;5;28;01mraise\u001b[39;00m \u001b[38;5;167;01mImportError\u001b[39;00m(WARN_NOIPYW)\n\u001b[1;32m    114\u001b[0m \u001b[38;5;28;01mif\u001b[39;00m total:\n\u001b[1;32m    115\u001b[0m     pbar \u001b[38;5;241m=\u001b[39m IProgress(\u001b[38;5;28mmin\u001b[39m\u001b[38;5;241m=\u001b[39m\u001b[38;5;241m0\u001b[39m, \u001b[38;5;28mmax\u001b[39m\u001b[38;5;241m=\u001b[39mtotal)\n",
      "\u001b[0;31mImportError\u001b[0m: IProgress not found. Please update jupyter and ipywidgets. See https://ipywidgets.readthedocs.io/en/stable/user_install.html"
     ]
    }
   ],
   "source": [
    "from tqdm.notebook import tqdm\n",
    "\n",
    "for i in tqdm(range(10)):\n",
    "    sleep(0.2)"
   ]
  },
  {
   "cell_type": "code",
   "execution_count": null,
   "id": "90227c9c-3514-40e1-8d07-66f94e07f7eb",
   "metadata": {},
   "outputs": [],
   "source": []
  }
 ],
 "metadata": {
  "kernelspec": {
   "display_name": "env11",
   "language": "python",
   "name": "env11"
  },
  "language_info": {
   "codemirror_mode": {
    "name": "ipython",
    "version": 3
   },
   "file_extension": ".py",
   "mimetype": "text/x-python",
   "name": "python",
   "nbconvert_exporter": "python",
   "pygments_lexer": "ipython3",
   "version": "3.11.2"
  }
 },
 "nbformat": 4,
 "nbformat_minor": 5
}
