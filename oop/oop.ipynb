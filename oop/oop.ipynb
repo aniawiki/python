{
 "cells": [
  {
   "cell_type": "code",
   "execution_count": 2,
   "id": "f2d799e9-18df-4f54-994c-f53558a026f1",
   "metadata": {},
   "outputs": [
    {
     "name": "stdout",
     "output_type": "stream",
     "text": [
      "500\n",
      "3000\n"
     ]
    }
   ],
   "source": [
    "class Item:\n",
    "    def calculate_total_price(self, x, y):\n",
    "        return x*y\n",
    "\n",
    "item1 = Item()\n",
    "item1.name = \"Phone\"\n",
    "item1.price = 100\n",
    "item1.quantity = 5\n",
    "print(item1.calculate_total_price(item1.price, item1.quantity))\n",
    "\n",
    "item2 = Item()\n",
    "item2.name = \"Laptop\"\n",
    "item2.price = 1000\n",
    "item2.quantity = 3\n",
    "print(item2.calculate_total_price(item2.price, item2.quantity))"
   ]
  },
  {
   "cell_type": "code",
   "execution_count": 7,
   "id": "34f2cd74-e48b-4015-bb2f-82914b627c7f",
   "metadata": {},
   "outputs": [
    {
     "name": "stdout",
     "output_type": "stream",
     "text": [
      "Phone\n",
      "3000\n"
     ]
    }
   ],
   "source": [
    "class Item:\n",
    "    def __init__(self, name: str, price: float, quantity):\n",
    "        self.name = name\n",
    "        self.price = price\n",
    "        self.quantity = quantity\n",
    "        assert price >= 0, f\"Price {price} should be greater than 0\"\n",
    "        assert quantity >= 0, f\"Quantity {quantity} should be greater than 0\"\n",
    "    \n",
    "    def calculate_total_price(self):\n",
    "        return self.price * self.quantity\n",
    "\n",
    "item1 = Item(\"Phone\", 100, 5)\n",
    "print(item1.name)\n",
    "\n",
    "item2 = Item(\"Laptop\", 1000, 3)\n",
    "print(item2.calculate_total_price())"
   ]
  },
  {
   "cell_type": "code",
   "execution_count": 11,
   "id": "fc061757-9154-466c-aadc-5d2834c62042",
   "metadata": {},
   "outputs": [
    {
     "name": "stdout",
     "output_type": "stream",
     "text": [
      "0.8\n",
      "0.8\n",
      "{'__module__': '__main__', 'pay_rate': 0.8, '__init__': <function Item.__init__ at 0x7fa0f47f1da0>, 'calculate_total_price': <function Item.calculate_total_price at 0x7fa0f47f20c0>, '__dict__': <attribute '__dict__' of 'Item' objects>, '__weakref__': <attribute '__weakref__' of 'Item' objects>, '__doc__': None}\n",
      "{'name': 'Phone', 'price': 100, 'quantity': 5}\n"
     ]
    }
   ],
   "source": [
    "class Item:\n",
    "    pay_rate = 0.8\n",
    "    def __init__(self, name: str, price: float, quantity):\n",
    "        self.name = name\n",
    "        self.price = price\n",
    "        self.quantity = quantity\n",
    "        assert price >= 0, f\"Price {price} should be greater than 0\"\n",
    "        assert quantity >= 0, f\"Quantity {quantity} should be greater than 0\"\n",
    "    \n",
    "    def calculate_total_price(self):\n",
    "        return self.price * self.quantity\n",
    "\n",
    "item1 = Item(\"Phone\", 100, 5)\n",
    "item2 = Item(\"Laptop\", 1000, 3)\n",
    "\n",
    "print(Item.pay_rate)\n",
    "print(item1.pay_rate)\n",
    "\n",
    "print(Item.__dict__) # all atributes for Class level\n",
    "print(item1.__dict__) # for instance level"
   ]
  },
  {
   "cell_type": "code",
   "execution_count": 13,
   "id": "dd108aa0-1e55-4c1c-8508-d22a4d78838f",
   "metadata": {},
   "outputs": [
    {
     "name": "stdout",
     "output_type": "stream",
     "text": [
      "70.0\n"
     ]
    }
   ],
   "source": [
    "class Item:\n",
    "    pay_rate = 0.8\n",
    "    def __init__(self, name: str, price: float, quantity):\n",
    "        self.name = name\n",
    "        self.price = price\n",
    "        self.quantity = quantity\n",
    "        assert price >= 0, f\"Price {price} should be greater than 0\"\n",
    "        assert quantity >= 0, f\"Quantity {quantity} should be greater than 0\"\n",
    "    \n",
    "    def calculate_total_price(self):\n",
    "        return self.price * self.quantity\n",
    "\n",
    "    def apply_discount(self):\n",
    "        self.price = self.price * self.pay_rate\n",
    "\n",
    "item1 = Item(\"Phone\", 100, 5)\n",
    "item1.pay_rate = 0.7\n",
    "item1.apply_discount()\n",
    "print(item1.price)"
   ]
  },
  {
   "cell_type": "code",
   "execution_count": 16,
   "id": "64619153-ad4d-4d68-8ace-e3e4d5f72d74",
   "metadata": {},
   "outputs": [
    {
     "name": "stdout",
     "output_type": "stream",
     "text": [
      "[<__main__.Item object at 0x7fa0f42089d0>, <__main__.Item object at 0x7fa0f43ad910>, <__main__.Item object at 0x7fa0f4208a50>, <__main__.Item object at 0x7fa0f420b150>, <__main__.Item object at 0x7fa0f420be50>]\n",
      "Phone\n",
      "Laptop\n",
      "Cable\n",
      "Mouse\n",
      "Keyboard\n"
     ]
    }
   ],
   "source": [
    "class Item:\n",
    "    pay_rate = 0.8\n",
    "    all = []\n",
    "    def __init__(self, name: str, price: float, quantity):\n",
    "        self.name = name\n",
    "        self.price = price\n",
    "        self.quantity = quantity\n",
    "        assert price >= 0, f\"Price {price} should be greater than 0\"\n",
    "        assert quantity >= 0, f\"Quantity {quantity} should be greater than 0\"\n",
    "\n",
    "        Item.all.append(self)\n",
    "    \n",
    "    def calculate_total_price(self):\n",
    "        return self.price * self.quantity\n",
    "\n",
    "    def apply_discount(self):\n",
    "        self.price = self.price * self.pay_rate\n",
    "        \n",
    "item1 = Item(\"Phone\", 100, 1)\n",
    "item2 = Item(\"Laptop\", 1000, 3)\n",
    "item3 = Item(\"Cable\", 10, 5)\n",
    "item4 = Item(\"Mouse\", 50, 5)\n",
    "item5 = Item(\"Keyboard\", 75, 5)\n",
    "\n",
    "print(Item.all)\n",
    "\n",
    "for instance in Item.all:\n",
    "    print(instance.name)"
   ]
  },
  {
   "cell_type": "code",
   "execution_count": 18,
   "id": "1e40b521-c0f5-4309-b79d-73f1ff6ce2a2",
   "metadata": {},
   "outputs": [
    {
     "name": "stdout",
     "output_type": "stream",
     "text": [
      "[Item('Phone', 100, 1, Item('Laptop', 1000, 3, Item('Cable', 10, 5, Item('Mouse', 50, 5, Item('Keyboard', 75, 5]\n"
     ]
    }
   ],
   "source": [
    "class Item:\n",
    "    pay_rate = 0.8\n",
    "    all = []\n",
    "    def __init__(self, name: str, price: float, quantity):\n",
    "        self.name = name\n",
    "        self.price = price\n",
    "        self.quantity = quantity\n",
    "        assert price >= 0, f\"Price {price} should be greater than 0\"\n",
    "        assert quantity >= 0, f\"Quantity {quantity} should be greater than 0\"\n",
    "\n",
    "        Item.all.append(self)\n",
    "    \n",
    "    def calculate_total_price(self):\n",
    "        return self.price * self.quantity\n",
    "\n",
    "    def apply_discount(self):\n",
    "        self.price = self.price * self.pay_rate\n",
    "\n",
    "    def __repr__(self):\n",
    "        return f\"Item('{self.name}', {self.price}, {self.quantity}\"\n",
    "        \n",
    "item1 = Item(\"Phone\", 100, 1)\n",
    "item2 = Item(\"Laptop\", 1000, 3)\n",
    "item3 = Item(\"Cable\", 10, 5)\n",
    "item4 = Item(\"Mouse\", 50, 5)\n",
    "item5 = Item(\"Keyboard\", 75, 5)\n",
    "\n",
    "print(Item.all)"
   ]
  },
  {
   "cell_type": "code",
   "execution_count": 22,
   "id": "191559f0-c997-46ad-8177-5f5e43ec5316",
   "metadata": {},
   "outputs": [
    {
     "name": "stdout",
     "output_type": "stream",
     "text": [
      "False\n"
     ]
    }
   ],
   "source": [
    "import csv\n",
    "\n",
    "class Item:\n",
    "    pay_rate = 0.8\n",
    "    all = []\n",
    "    def __init__(self, name: str, price: float, quantity):\n",
    "        self.name = name\n",
    "        self.price = price\n",
    "        self.quantity = quantity\n",
    "        assert price >= 0, f\"Price {price} should be greater than 0\"\n",
    "        assert quantity >= 0, f\"Quantity {quantity} should be greater than 0\"\n",
    "\n",
    "        Item.all.append(self)\n",
    "    \n",
    "    def calculate_total_price(self):\n",
    "        return self.price * self.quantity\n",
    "\n",
    "    def apply_discount(self):\n",
    "        self.price = self.price * self.pay_rate\n",
    "\n",
    "    @classmethod\n",
    "    def instantiate_from_csv(cls):\n",
    "        with open('oop/items.csv', 'r') as f:\n",
    "            reader = csv.DictReader(f)\n",
    "            items = list(reader)\n",
    "\n",
    "        for item in items:\n",
    "            Item(\n",
    "                name=item.get('name'),\n",
    "                price=float(item.get('price')),\n",
    "                quantity=int(item.get('quantity'))\n",
    "            )\n",
    "\n",
    "    def __repr__(self):\n",
    "        return f\"Item('{self.name}', {self.price}, {self.quantity}\"\n",
    "\n",
    "    @staticmethod\n",
    "    def is_integer(num):\n",
    "        if isinstance(num, float):\n",
    "            return num.is_integer()\n",
    "        elif isinstance(num, int):\n",
    "            return True\n",
    "        else:\n",
    "            return False\n",
    "        \n",
    "\n",
    "print(Item.is_integer(7.5))"
   ]
  },
  {
   "cell_type": "code",
   "execution_count": null,
   "id": "a86929da-6677-486d-95a3-4f61543f4d74",
   "metadata": {},
   "outputs": [],
   "source": []
  }
 ],
 "metadata": {
  "kernelspec": {
   "display_name": "env11",
   "language": "python",
   "name": "env11"
  },
  "language_info": {
   "codemirror_mode": {
    "name": "ipython",
    "version": 3
   },
   "file_extension": ".py",
   "mimetype": "text/x-python",
   "name": "python",
   "nbconvert_exporter": "python",
   "pygments_lexer": "ipython3",
   "version": "3.11.2"
  }
 },
 "nbformat": 4,
 "nbformat_minor": 5
}
