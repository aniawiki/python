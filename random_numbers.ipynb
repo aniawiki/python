{
 "cells": [
  {
   "cell_type": "code",
   "execution_count": 1,
   "id": "40385b5f-6be9-4c7b-864b-319ff920760e",
   "metadata": {},
   "outputs": [],
   "source": [
    "import random"
   ]
  },
  {
   "cell_type": "code",
   "execution_count": 3,
   "id": "a17b0b1d-0ce6-45a0-8353-50defa6ea0a4",
   "metadata": {},
   "outputs": [
    {
     "data": {
      "text/plain": [
       "0.6552795443121449"
      ]
     },
     "execution_count": 3,
     "metadata": {},
     "output_type": "execute_result"
    }
   ],
   "source": [
    "random.random() # float from 0 to 1"
   ]
  },
  {
   "cell_type": "code",
   "execution_count": 4,
   "id": "31988aee-cb14-466a-8995-2b25c45fcdd7",
   "metadata": {},
   "outputs": [
    {
     "data": {
      "text/plain": [
       "8.164516301808895"
      ]
     },
     "execution_count": 4,
     "metadata": {},
     "output_type": "execute_result"
    }
   ],
   "source": [
    "random.uniform(1, 10)"
   ]
  },
  {
   "cell_type": "code",
   "execution_count": 6,
   "id": "feeaf230-cffc-491a-92a2-ec5d59cd9c83",
   "metadata": {},
   "outputs": [
    {
     "data": {
      "text/plain": [
       "8"
      ]
     },
     "execution_count": 6,
     "metadata": {},
     "output_type": "execute_result"
    }
   ],
   "source": [
    "random.randint(1, 10) # upper bound included"
   ]
  },
  {
   "cell_type": "code",
   "execution_count": 7,
   "id": "01c91a15-d70b-48bc-9391-1abe50150bf6",
   "metadata": {},
   "outputs": [
    {
     "data": {
      "text/plain": [
       "3"
      ]
     },
     "execution_count": 7,
     "metadata": {},
     "output_type": "execute_result"
    }
   ],
   "source": [
    "random.randrange(1, 10) # upper bound not included"
   ]
  },
  {
   "cell_type": "code",
   "execution_count": 11,
   "id": "ec8e612b-7d6c-4f0f-98fc-661dc6cf5e30",
   "metadata": {},
   "outputs": [
    {
     "data": {
      "text/plain": [
       "0.39135636791675354"
      ]
     },
     "execution_count": 11,
     "metadata": {},
     "output_type": "execute_result"
    }
   ],
   "source": [
    "random.normalvariate(0, 1)"
   ]
  },
  {
   "cell_type": "code",
   "execution_count": 12,
   "id": "85362ea4-b26f-4d79-bfa4-5be76ae2e5cd",
   "metadata": {},
   "outputs": [],
   "source": [
    "list = list(\"abcdefgh\")"
   ]
  },
  {
   "cell_type": "code",
   "execution_count": 13,
   "id": "0a94ecfc-d838-4399-828a-2524b279eb6f",
   "metadata": {},
   "outputs": [
    {
     "data": {
      "text/plain": [
       "'e'"
      ]
     },
     "execution_count": 13,
     "metadata": {},
     "output_type": "execute_result"
    }
   ],
   "source": [
    "random.choice(list)"
   ]
  },
  {
   "cell_type": "code",
   "execution_count": 14,
   "id": "3c5e58ff-5121-4279-a166-1d26d7c3a364",
   "metadata": {},
   "outputs": [
    {
     "data": {
      "text/plain": [
       "['d', 'b', 'a']"
      ]
     },
     "execution_count": 14,
     "metadata": {},
     "output_type": "execute_result"
    }
   ],
   "source": [
    "random.sample(list, 3) # unique elements"
   ]
  },
  {
   "cell_type": "code",
   "execution_count": 16,
   "id": "9ec676dc-e829-468c-832d-384a76a64dbd",
   "metadata": {},
   "outputs": [
    {
     "data": {
      "text/plain": [
       "['g', 'e', 'd']"
      ]
     },
     "execution_count": 16,
     "metadata": {},
     "output_type": "execute_result"
    }
   ],
   "source": [
    "random.choices(list, k=3) # not unique choices"
   ]
  },
  {
   "cell_type": "code",
   "execution_count": 18,
   "id": "0662b3cd-f5fb-44c5-b411-f25df4042c99",
   "metadata": {},
   "outputs": [
    {
     "name": "stdout",
     "output_type": "stream",
     "text": [
      "['c', 'e', 'f', 'b', 'g', 'h', 'd', 'a']\n"
     ]
    }
   ],
   "source": [
    "random.shuffle(list)\n",
    "print(list)"
   ]
  },
  {
   "cell_type": "code",
   "execution_count": 21,
   "id": "a2a2c3fd-4008-43a4-ac28-4b10a3e20840",
   "metadata": {},
   "outputs": [
    {
     "name": "stdout",
     "output_type": "stream",
     "text": [
      "0.13436424411240122\n"
     ]
    }
   ],
   "source": [
    "random.seed(1)\n",
    "print(random.random())"
   ]
  },
  {
   "cell_type": "code",
   "execution_count": 24,
   "id": "ae4a0620-f410-4093-894e-487b1290436d",
   "metadata": {},
   "outputs": [],
   "source": [
    "import secrets"
   ]
  },
  {
   "cell_type": "code",
   "execution_count": 26,
   "id": "aa34d735-c02f-4c73-9261-6578af6cee82",
   "metadata": {},
   "outputs": [
    {
     "data": {
      "text/plain": [
       "9"
      ]
     },
     "execution_count": 26,
     "metadata": {},
     "output_type": "execute_result"
    }
   ],
   "source": [
    "secrets.randbelow(10) # upper bound not included"
   ]
  },
  {
   "cell_type": "code",
   "execution_count": 38,
   "id": "65199c00-e094-4fb7-8c8e-7c70b30c8541",
   "metadata": {},
   "outputs": [
    {
     "data": {
      "text/plain": [
       "3"
      ]
     },
     "execution_count": 38,
     "metadata": {},
     "output_type": "execute_result"
    }
   ],
   "source": [
    "secrets.randbits(2)"
   ]
  },
  {
   "cell_type": "code",
   "execution_count": 40,
   "id": "4881f717-23e0-4415-b739-4811c5e74385",
   "metadata": {},
   "outputs": [
    {
     "data": {
      "text/plain": [
       "'g'"
      ]
     },
     "execution_count": 40,
     "metadata": {},
     "output_type": "execute_result"
    }
   ],
   "source": [
    "secrets.choice(list)"
   ]
  },
  {
   "cell_type": "code",
   "execution_count": 41,
   "id": "245eed0c-9105-4404-95d8-1ae0bfe686bd",
   "metadata": {},
   "outputs": [],
   "source": [
    "import numpy as np"
   ]
  },
  {
   "cell_type": "code",
   "execution_count": 46,
   "id": "16b99ed0-9582-43d0-aa06-205c4451ff90",
   "metadata": {},
   "outputs": [
    {
     "ename": "AttributeError",
     "evalue": "module 'numpy' has no attribute 'random'",
     "output_type": "error",
     "traceback": [
      "\u001b[0;31m---------------------------------------------------------------------------\u001b[0m",
      "\u001b[0;31mAttributeError\u001b[0m                            Traceback (most recent call last)",
      "Cell \u001b[0;32mIn[46], line 1\u001b[0m\n\u001b[0;32m----> 1\u001b[0m a \u001b[38;5;241m=\u001b[39m \u001b[43mnp\u001b[49m\u001b[38;5;241;43m.\u001b[39;49m\u001b[43mrandom\u001b[49m\u001b[38;5;241m.\u001b[39mrand(\u001b[38;5;241m3\u001b[39m)\n",
      "\u001b[0;31mAttributeError\u001b[0m: module 'numpy' has no attribute 'random'"
     ]
    }
   ],
   "source": [
    "a = np.random.rand(3)"
   ]
  },
  {
   "cell_type": "code",
   "execution_count": 47,
   "id": "7ccbc713-12d2-4bd5-86a9-dfec3ad2081f",
   "metadata": {},
   "outputs": [
    {
     "ename": "AttributeError",
     "evalue": "module 'numpy' has no attribute 'random'",
     "output_type": "error",
     "traceback": [
      "\u001b[0;31m---------------------------------------------------------------------------\u001b[0m",
      "\u001b[0;31mAttributeError\u001b[0m                            Traceback (most recent call last)",
      "Cell \u001b[0;32mIn[47], line 1\u001b[0m\n\u001b[0;32m----> 1\u001b[0m \u001b[43mnp\u001b[49m\u001b[38;5;241;43m.\u001b[39;49m\u001b[43mrandom\u001b[49m\u001b[38;5;241m.\u001b[39mrandint(\u001b[38;5;241m0\u001b[39m, \u001b[38;5;241m10\u001b[39m) \u001b[38;5;66;03m# upper bound excluded\u001b[39;00m\n",
      "\u001b[0;31mAttributeError\u001b[0m: module 'numpy' has no attribute 'random'"
     ]
    }
   ],
   "source": [
    "np.random.randint(0, 10) # upper bound excluded"
   ]
  },
  {
   "cell_type": "code",
   "execution_count": 48,
   "id": "2f574554-6def-4df4-ac6f-642056c865f3",
   "metadata": {},
   "outputs": [
    {
     "ename": "AttributeError",
     "evalue": "module 'numpy' has no attribute 'random'",
     "output_type": "error",
     "traceback": [
      "\u001b[0;31m---------------------------------------------------------------------------\u001b[0m",
      "\u001b[0;31mAttributeError\u001b[0m                            Traceback (most recent call last)",
      "Cell \u001b[0;32mIn[48], line 1\u001b[0m\n\u001b[0;32m----> 1\u001b[0m \u001b[43mnp\u001b[49m\u001b[38;5;241;43m.\u001b[39;49m\u001b[43mrandom\u001b[49m\u001b[38;5;241m.\u001b[39mrandint(\u001b[38;5;241m0\u001b[39m, \u001b[38;5;241m10\u001b[39m, (\u001b[38;5;241m3\u001b[39m, \u001b[38;5;241m4\u001b[39m))\n",
      "\u001b[0;31mAttributeError\u001b[0m: module 'numpy' has no attribute 'random'"
     ]
    }
   ],
   "source": [
    "np.random.randint(0, 10, (3, 4))"
   ]
  },
  {
   "cell_type": "code",
   "execution_count": null,
   "id": "4007b1ed-d1df-4eab-83c0-0c6705c2122b",
   "metadata": {},
   "outputs": [],
   "source": []
  }
 ],
 "metadata": {
  "kernelspec": {
   "display_name": "env11",
   "language": "python",
   "name": "env11"
  },
  "language_info": {
   "codemirror_mode": {
    "name": "ipython",
    "version": 3
   },
   "file_extension": ".py",
   "mimetype": "text/x-python",
   "name": "python",
   "nbconvert_exporter": "python",
   "pygments_lexer": "ipython3",
   "version": "3.11.2"
  }
 },
 "nbformat": 4,
 "nbformat_minor": 5
}
