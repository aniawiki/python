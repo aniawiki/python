{
 "cells": [
  {
   "cell_type": "code",
   "execution_count": 1,
   "id": "8c5ab003-46f1-4574-8c23-bdbe3f7d83b1",
   "metadata": {},
   "outputs": [],
   "source": [
    "import json"
   ]
  },
  {
   "cell_type": "code",
   "execution_count": 2,
   "id": "eb1a468c-de09-4a23-b572-7ae73c92d0a0",
   "metadata": {},
   "outputs": [],
   "source": [
    "person = {\"name\": \"John\", \"age\": 30, \"city\": \"New York\", \"hasChildren\": False, \"titles\":[\"engineer\", \"programmer\"]}"
   ]
  },
  {
   "cell_type": "code",
   "execution_count": 3,
   "id": "3e4740e4-5d7e-413e-9169-a550497f216f",
   "metadata": {},
   "outputs": [
    {
     "data": {
      "text/plain": [
       "'{\\n    \"name\" = \"John\"; \\n    \"age\" = 30; \\n    \"city\" = \"New York\"; \\n    \"hasChildren\" = false; \\n    \"titles\" = [\\n        \"engineer\"; \\n        \"programmer\"\\n    ]\\n}'"
      ]
     },
     "execution_count": 3,
     "metadata": {},
     "output_type": "execute_result"
    }
   ],
   "source": [
    "personJSON = json.dumps(person, indent=4, separators=('; ', ' = '))\n",
    "personJSON"
   ]
  },
  {
   "cell_type": "code",
   "execution_count": 22,
   "id": "40f6a1f1-d51b-4b2c-860f-15b4028913db",
   "metadata": {},
   "outputs": [
    {
     "data": {
      "text/plain": [
       "'{\"age\": 30, \"city\": \"New York\", \"hasChildren\": false, \"name\": \"John\", \"titles\": [\"engineer\", \"programmer\"]}'"
      ]
     },
     "execution_count": 22,
     "metadata": {},
     "output_type": "execute_result"
    }
   ],
   "source": [
    "personJSON = json.dumps(person, sort_keys=True) # dump as a string\n",
    "personJSON"
   ]
  },
  {
   "cell_type": "code",
   "execution_count": 6,
   "id": "6845c217-bd34-494b-9570-a90e3c81559c",
   "metadata": {},
   "outputs": [],
   "source": [
    "with open('person.json', 'w') as file:\n",
    "    json.dump(person, file, indent=4)"
   ]
  },
  {
   "cell_type": "code",
   "execution_count": 20,
   "id": "b1f6ac1d-4e97-4d9d-9af6-0724a8e89186",
   "metadata": {},
   "outputs": [
    {
     "data": {
      "text/plain": [
       "{'age': 30,\n",
       " 'city': 'New York',\n",
       " 'hasChildren': False,\n",
       " 'name': 'John',\n",
       " 'titles': ['engineer', 'programmer']}"
      ]
     },
     "execution_count": 20,
     "metadata": {},
     "output_type": "execute_result"
    }
   ],
   "source": [
    "person = json.loads(personJSON)\n",
    "person"
   ]
  },
  {
   "cell_type": "code",
   "execution_count": 21,
   "id": "a34e4d8d-d6f9-40ea-beda-1fe97989010b",
   "metadata": {},
   "outputs": [
    {
     "data": {
      "text/plain": [
       "{'name': 'John',\n",
       " 'age': 30,\n",
       " 'city': 'New York',\n",
       " 'hasChildren': False,\n",
       " 'titles': ['engineer', 'programmer']}"
      ]
     },
     "execution_count": 21,
     "metadata": {},
     "output_type": "execute_result"
    }
   ],
   "source": [
    "with open('person.json', 'r') as file:\n",
    "    person = json.load(file)\n",
    "person"
   ]
  },
  {
   "cell_type": "code",
   "execution_count": 23,
   "id": "c23eac17-d4a0-4a71-abba-66bfe6df96d5",
   "metadata": {},
   "outputs": [],
   "source": [
    "class User:\n",
    "\n",
    "    def __init__(self, name, age):\n",
    "        self.name = name\n",
    "        self.age = age"
   ]
  },
  {
   "cell_type": "code",
   "execution_count": 24,
   "id": "367d4741-e1ef-4823-9454-3b460e00b6fb",
   "metadata": {},
   "outputs": [],
   "source": [
    "user = User('A', 15)"
   ]
  },
  {
   "cell_type": "code",
   "execution_count": 27,
   "id": "d24ef97e-cc1a-495b-9e4a-c16f4d2f3976",
   "metadata": {},
   "outputs": [],
   "source": [
    "def encode_user(o):\n",
    "    if isinstance(o, User):\n",
    "        return {'name': o.name, 'age': o.age, o.__class__.__name__: True}\n",
    "    else:\n",
    "        raise Typerror(\"Object of type USer is not JSON serializable\") \n",
    "\n",
    "\n",
    "userJSON = json.dumps(user, default=encode_user)"
   ]
  },
  {
   "cell_type": "code",
   "execution_count": 28,
   "id": "4b067db7-0a22-4de1-b430-fc94d7e65b11",
   "metadata": {},
   "outputs": [
    {
     "data": {
      "text/plain": [
       "'{\"name\": \"A\", \"age\": 15, \"User\": true}'"
      ]
     },
     "execution_count": 28,
     "metadata": {},
     "output_type": "execute_result"
    }
   ],
   "source": [
    "userJSON"
   ]
  },
  {
   "cell_type": "code",
   "execution_count": 33,
   "id": "3940040e-fd4c-49df-ab6a-57e44c8b1faf",
   "metadata": {},
   "outputs": [],
   "source": [
    "## OR"
   ]
  },
  {
   "cell_type": "code",
   "execution_count": 29,
   "id": "5b6ed26b-6e7e-45e1-8e2f-f8111cf6a731",
   "metadata": {},
   "outputs": [],
   "source": [
    "from json import JSONEncoder"
   ]
  },
  {
   "cell_type": "code",
   "execution_count": 30,
   "id": "65e993ad-ee17-43cc-9769-260ed26db710",
   "metadata": {},
   "outputs": [],
   "source": [
    "class UserEncoder(JSONEncoder):\n",
    "\n",
    "    def default(self, o):\n",
    "        if isinstance(o, User):\n",
    "            return {'name': o.name, 'age': o.age, o.__class__.__name__: True}\n",
    "        return JSONEncoder.defaut(self, o)"
   ]
  },
  {
   "cell_type": "code",
   "execution_count": null,
   "id": "4b654efd-5c5c-44ee-b290-d8001a433182",
   "metadata": {},
   "outputs": [],
   "source": [
    "## OR"
   ]
  },
  {
   "cell_type": "code",
   "execution_count": 32,
   "id": "1b81e8e8-00fc-46f2-a3f7-079a8f918fd9",
   "metadata": {},
   "outputs": [
    {
     "data": {
      "text/plain": [
       "'{\"name\": \"A\", \"age\": 15, \"User\": true}'"
      ]
     },
     "execution_count": 32,
     "metadata": {},
     "output_type": "execute_result"
    }
   ],
   "source": [
    "userJSON = json.dumps(user, cls=UserEncoder)\n",
    "userJSON"
   ]
  },
  {
   "cell_type": "code",
   "execution_count": null,
   "id": "5bcdeaf1-a43c-4683-b0dd-14668c3b597a",
   "metadata": {},
   "outputs": [],
   "source": [
    "## OR"
   ]
  },
  {
   "cell_type": "code",
   "execution_count": 35,
   "id": "daf279f2-f0c1-4e77-b404-ab663f0e94ac",
   "metadata": {},
   "outputs": [
    {
     "data": {
      "text/plain": [
       "'{\"name\": \"A\", \"age\": 15, \"User\": true}'"
      ]
     },
     "execution_count": 35,
     "metadata": {},
     "output_type": "execute_result"
    }
   ],
   "source": [
    "userJSON = UserEncoder().encode(user)\n",
    "userJSON"
   ]
  },
  {
   "cell_type": "code",
   "execution_count": 38,
   "id": "dac34a89-149f-4ae9-9745-3e23c8e8e3de",
   "metadata": {},
   "outputs": [
    {
     "data": {
      "text/plain": [
       "{'name': 'A', 'age': 15, 'User': True}"
      ]
     },
     "execution_count": 38,
     "metadata": {},
     "output_type": "execute_result"
    }
   ],
   "source": [
    "user = json.loads(userJSON)\n",
    "user"
   ]
  },
  {
   "cell_type": "code",
   "execution_count": 39,
   "id": "1b44c39d-cd5f-4ce5-8c94-bdae7c85642f",
   "metadata": {},
   "outputs": [
    {
     "data": {
      "text/plain": [
       "dict"
      ]
     },
     "execution_count": 39,
     "metadata": {},
     "output_type": "execute_result"
    }
   ],
   "source": [
    "type(user)"
   ]
  },
  {
   "cell_type": "code",
   "execution_count": 40,
   "id": "259fb8ff-62c6-4176-b29b-07f558f2793a",
   "metadata": {},
   "outputs": [],
   "source": [
    "# TO USER CLASS OBJECT"
   ]
  },
  {
   "cell_type": "code",
   "execution_count": 41,
   "id": "05a3aa18-6d52-4d66-bcf1-b269654b5393",
   "metadata": {},
   "outputs": [],
   "source": [
    "def decode_user(dct):\n",
    "    if User.__name__ in dct:\n",
    "        return User(name=dct['name'], age=dct['age'])\n",
    "    return dct"
   ]
  },
  {
   "cell_type": "code",
   "execution_count": 44,
   "id": "80103183-48f9-4831-a6b4-0bf581113812",
   "metadata": {},
   "outputs": [
    {
     "name": "stdout",
     "output_type": "stream",
     "text": [
      "<__main__.User object at 0x7fdc70593e50>\n",
      "<class '__main__.User'>\n",
      "A\n"
     ]
    }
   ],
   "source": [
    "user = json.loads(userJSON, object_hook=decode_user)\n",
    "print(user)\n",
    "print(type(user))\n",
    "print(user.name)"
   ]
  },
  {
   "cell_type": "code",
   "execution_count": null,
   "id": "807bf3f0-885b-4997-a871-74a5120fb7b4",
   "metadata": {},
   "outputs": [],
   "source": []
  }
 ],
 "metadata": {
  "kernelspec": {
   "display_name": "env11",
   "language": "python",
   "name": "env11"
  },
  "language_info": {
   "codemirror_mode": {
    "name": "ipython",
    "version": 3
   },
   "file_extension": ".py",
   "mimetype": "text/x-python",
   "name": "python",
   "nbconvert_exporter": "python",
   "pygments_lexer": "ipython3",
   "version": "3.11.2"
  }
 },
 "nbformat": 4,
 "nbformat_minor": 5
}
