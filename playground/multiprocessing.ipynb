{
 "cells": [
  {
   "cell_type": "code",
   "execution_count": 1,
   "id": "6e5a6b7d-9370-436a-a439-029225e8354d",
   "metadata": {},
   "outputs": [],
   "source": [
    "from multiprocessing import Process\n",
    "import os\n",
    "import time"
   ]
  },
  {
   "cell_type": "code",
   "execution_count": 7,
   "id": "37633aae-9e51-458c-b80c-559801cba9c7",
   "metadata": {},
   "outputs": [],
   "source": [
    "def square_numbers():\n",
    "    for i in range(100):\n",
    "        i * i\n",
    "        time.sleep(0.1)\n",
    "\n",
    "processes = []\n",
    "num_processes = os.cpu_count()\n",
    "\n",
    "for i in range(num_processes):\n",
    "    p = Process(target=square_numbers)\n",
    "    processes.append(p)\n",
    "\n",
    "for p in processes:\n",
    "    p.start()\n",
    "\n",
    "for p in processes:\n",
    "    p.join()"
   ]
  },
  {
   "cell_type": "code",
   "execution_count": 4,
   "id": "0cf2a1cc-1a8d-4176-99a6-738cdf1672bf",
   "metadata": {},
   "outputs": [
    {
     "data": {
      "text/plain": [
       "8"
      ]
     },
     "execution_count": 4,
     "metadata": {},
     "output_type": "execute_result"
    }
   ],
   "source": [
    "os.cpu_count()"
   ]
  }
 ],
 "metadata": {
  "kernelspec": {
   "display_name": "env11",
   "language": "python",
   "name": "env11"
  },
  "language_info": {
   "codemirror_mode": {
    "name": "ipython",
    "version": 3
   },
   "file_extension": ".py",
   "mimetype": "text/x-python",
   "name": "python",
   "nbconvert_exporter": "python",
   "pygments_lexer": "ipython3",
   "version": "3.11.2"
  }
 },
 "nbformat": 4,
 "nbformat_minor": 5
}
