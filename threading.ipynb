{
 "cells": [
  {
   "cell_type": "code",
   "execution_count": 2,
   "id": "45d383e8-039b-4d32-bc6f-a9396556e544",
   "metadata": {},
   "outputs": [],
   "source": [
    "from threading import Thread"
   ]
  },
  {
   "cell_type": "code",
   "execution_count": 3,
   "id": "a713a2b1-96ba-414f-a6ab-aa896306e722",
   "metadata": {},
   "outputs": [],
   "source": [
    "database_value = 0"
   ]
  },
  {
   "cell_type": "code",
   "execution_count": 4,
   "id": "93359e53-522c-4482-98d2-151d99c713eb",
   "metadata": {},
   "outputs": [],
   "source": [
    "def increase():\n",
    "    global database_value\n",
    "    local_copy = database_value\n",
    "    localcopy += 1\n",
    "    time.sleep(0.1)\n",
    "    database_value = local_copy"
   ]
  },
  {
   "cell_type": "code",
   "execution_count": 7,
   "id": "77457ed6-a58a-426d-a1a9-1645ff0b118f",
   "metadata": {},
   "outputs": [],
   "source": [
    "if __name__ == 'main':\n",
    "    print('start value', database_value)\n",
    "\n",
    "    thread1 = Thread(target=increase)\n",
    "    thread2 = Thread(target=increase)\n",
    "\n",
    "    thread1.start()\n",
    "    thread2.start()\n",
    "    \n",
    "    thread1.join()\n",
    "    thread2.join()\n",
    "\n",
    "    print('end value', database_value)\n",
    "    print('end main')"
   ]
  },
  {
   "cell_type": "code",
   "execution_count": null,
   "id": "9f64198c-7db4-40c1-8e34-6af7d89feb68",
   "metadata": {},
   "outputs": [],
   "source": []
  }
 ],
 "metadata": {
  "kernelspec": {
   "display_name": "env11",
   "language": "python",
   "name": "env11"
  },
  "language_info": {
   "codemirror_mode": {
    "name": "ipython",
    "version": 3
   },
   "file_extension": ".py",
   "mimetype": "text/x-python",
   "name": "python",
   "nbconvert_exporter": "python",
   "pygments_lexer": "ipython3",
   "version": "3.11.2"
  }
 },
 "nbformat": 4,
 "nbformat_minor": 5
}
